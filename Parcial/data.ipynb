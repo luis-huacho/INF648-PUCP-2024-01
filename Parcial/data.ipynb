{
 "nbformat": 4,
 "nbformat_minor": 0,
 "metadata": {
  "colab": {
   "provenance": []
  },
  "kernelspec": {
   "name": "python3",
   "display_name": "Python 3 (ipykernel)",
   "language": "python"
  },
  "language_info": {
   "name": "python"
  }
 },
 "cells": [
  {
   "metadata": {},
   "cell_type": "markdown",
   "source": "# 1. Librerías y dataset"
  },
  {
   "metadata": {
    "ExecuteTime": {
     "end_time": "2024-05-05T00:10:19.301177Z",
     "start_time": "2024-05-05T00:10:19.132646Z"
    }
   },
   "cell_type": "code",
   "source": [
    "import pandas as pd\n",
    "import numpy as np\n",
    "import matplotlib.pyplot as plt\n",
    "import seaborn as sns\n",
    "from sklearn.impute import  SimpleImputer"
   ],
   "outputs": [],
   "execution_count": 1
  },
  {
   "cell_type": "code",
   "source": [
    "# Dataframe\n",
    "df = pd.read_csv(\"train.csv\", sep=\",\")\n",
    "\n",
    "# Conjunto de Test\n",
    "test = pd.read_csv(\"test_x.csv\", sep=\",\")"
   ],
   "metadata": {
    "id": "_kcmoR0-JX0J",
    "ExecuteTime": {
     "end_time": "2024-05-05T00:10:19.859608Z",
     "start_time": "2024-05-05T00:10:19.741889Z"
    }
   },
   "outputs": [],
   "execution_count": 2
  },
  {
   "metadata": {
    "ExecuteTime": {
     "end_time": "2024-05-05T00:10:19.865632Z",
     "start_time": "2024-05-05T00:10:19.861489Z"
    }
   },
   "cell_type": "code",
   "source": "y = pd.DataFrame([])",
   "outputs": [],
   "execution_count": 3
  },
  {
   "metadata": {
    "ExecuteTime": {
     "end_time": "2024-05-05T00:10:19.881003Z",
     "start_time": "2024-05-05T00:10:19.867142Z"
    }
   },
   "cell_type": "code",
   "source": "y['subscripcion_deposito'] = df['Subscripcion Deposito']",
   "outputs": [],
   "execution_count": 4
  },
  {
   "metadata": {
    "ExecuteTime": {
     "end_time": "2024-05-05T00:10:19.886088Z",
     "start_time": "2024-05-05T00:10:19.882980Z"
    }
   },
   "cell_type": "code",
   "source": "y.rename(columns={'subscripcion_deposito': 'subscripcion_deposito'}, inplace=True)",
   "outputs": [],
   "execution_count": 5
  },
  {
   "metadata": {
    "ExecuteTime": {
     "end_time": "2024-05-05T00:10:19.963945Z",
     "start_time": "2024-05-05T00:10:19.948190Z"
    }
   },
   "cell_type": "code",
   "source": [
    "# Eliminamos la columna ID\n",
    "df.drop('Id', axis=1,  inplace=True)\n",
    "test.drop('Id', axis=1,  inplace=True)\n",
    "\n",
    "# Eliminamos la columna Y\n",
    "df.drop('Subscripcion Deposito', axis=1,  inplace=True)"
   ],
   "outputs": [],
   "execution_count": 6
  },
  {
   "metadata": {
    "ExecuteTime": {
     "end_time": "2024-05-05T00:10:20.035647Z",
     "start_time": "2024-05-05T00:10:20.033255Z"
    }
   },
   "cell_type": "code",
   "source": "# df",
   "outputs": [],
   "execution_count": 7
  },
  {
   "metadata": {
    "ExecuteTime": {
     "end_time": "2024-05-05T00:10:20.077197Z",
     "start_time": "2024-05-05T00:10:20.072647Z"
    }
   },
   "cell_type": "code",
   "source": [
    "# Renombramos columnas para reducir su extensión\n",
    "nom_columns = { 'Edad': 'edad',\n",
    "                'Trabajo': 'trabajo',\n",
    "                'Estado Civil': 'estado_civil',\n",
    "                'Educacion': 'educacion',\n",
    "                'Credito por Defecto': 'default_credit',\n",
    "                'Prestamo Vivienda': 'prest_vivienda',\n",
    "                'Prestamo Personal': 'prest_personal',\n",
    "                'Contacto': 'contact',\n",
    "                'Mes': 'mes',\n",
    "                'Dia Semana': 'dia_semana',\n",
    "                'Duracion': 'duracion',\n",
    "                'Cantidad Contactos Realizados': 'num_contact_realizados',\n",
    "                'Cantidad Dias desde Ultimo Contacto': 'dias_ultimo_contacto',\n",
    "                'Cantidad Contactos Previos Realizados': 'contactos_prev_realizados',\n",
    "                'Resultado Campaña Anterior': 'resultado_camp_anterior',\n",
    "                'Tasa Variacion Empleo': 'tasa_variacion_empleo',\n",
    "                'Indice Precios Consumidor': 'ipc',\n",
    "                'Indice Confianza Consumidor': 'ict',\n",
    "                'Tasa Interes 3 meses': 'ti3m',\n",
    "                'Cantidad Empleados': 'num_trabajadores'}\n",
    "\n",
    "df.rename(columns=nom_columns, inplace=True)\n",
    "test.rename(columns=nom_columns, inplace=True)"
   ],
   "outputs": [],
   "execution_count": 8
  },
  {
   "metadata": {
    "ExecuteTime": {
     "end_time": "2024-05-05T00:10:20.179787Z",
     "start_time": "2024-05-05T00:10:20.134985Z"
    }
   },
   "cell_type": "code",
   "source": [
    "# Cambiamos los valores string \"valores_que_faltan\" por NaN\n",
    "df = df.replace({'valor_que_falta': np.nan})\n",
    "df['dias_ultimo_contacto'] = df['dias_ultimo_contacto'].replace({999: np.nan})\n",
    "\n",
    "test = test.replace({'valor_que_falta': np.nan})\n",
    "test['dias_ultimo_contacto'] = test['dias_ultimo_contacto'].replace({999: np.nan})"
   ],
   "outputs": [],
   "execution_count": 9
  },
  {
   "metadata": {},
   "cell_type": "markdown",
   "source": "# 2. Funciones "
  },
  {
   "metadata": {},
   "cell_type": "markdown",
   "source": "## 2.1. Contar valores nulos para todas las columnas del dataset"
  },
  {
   "metadata": {
    "ExecuteTime": {
     "end_time": "2024-05-05T00:10:20.185403Z",
     "start_time": "2024-05-05T00:10:20.181689Z"
    }
   },
   "cell_type": "code",
   "source": [
    "def conteo_valores_nulos( dataset: pd.DataFrame) -> pd.DataFrame:\n",
    "    # revisamos valores nulos por columna\n",
    "    missing_percentage = dataset.isnull().sum()\n",
    "    missing_percentage = missing_percentage.reset_index()\n",
    "    missing_percentage.columns = ['column_name', 'total_nan']\n",
    "    missing_percentage['percentage_nan'] = missing_percentage['total_nan']/len(dataset)*100\n",
    "    missing_percentage_sorted = missing_percentage.sort_values(by=\"percentage_nan\", ascending=False)\n",
    "    return missing_percentage_sorted"
   ],
   "outputs": [],
   "execution_count": 10
  },
  {
   "metadata": {},
   "cell_type": "markdown",
   "source": "## 2.2. Contar valores únicos por columna, incluye valores null / nan"
  },
  {
   "metadata": {
    "ExecuteTime": {
     "end_time": "2024-05-05T00:10:20.253812Z",
     "start_time": "2024-05-05T00:10:20.251010Z"
    }
   },
   "cell_type": "code",
   "source": [
    "def conteo_valores_unicos(dataset: pd.DataFrame, column_name: str) -> pd.DataFrame:\n",
    "    return dataset[column_name].value_counts(dropna=False)"
   ],
   "outputs": [],
   "execution_count": 11
  },
  {
   "metadata": {},
   "cell_type": "markdown",
   "source": "## 2.3. Completar con la moda de una columna respecto de otra"
  },
  {
   "metadata": {
    "ExecuteTime": {
     "end_time": "2024-05-05T00:10:20.279209Z",
     "start_time": "2024-05-05T00:10:20.274696Z"
    }
   },
   "cell_type": "code",
   "source": [
    "def fill_with_mode(row: pd.Series, column_name: str, mode_per_grp_col: pd.DataFrame, group_col: str) -> pd.Series:\n",
    "    \"\"\"\n",
    "    Imputa el valor NaN en una columna específica usando la moda del grupo al que pertenece cada fila.\n",
    "    \n",
    "    Parámetros:\n",
    "    - row (pd.Series): Una fila del DataFrame.\n",
    "    - column_name (str): El nombre de la columna donde imputar los NaN.\n",
    "    - mode_per_grp_col (dict or pd.Series): Un diccionario o Serie con las modas para cada grupo.\n",
    "    - group_col (str): El nombre de la columna que define los grupos.\n",
    "    \n",
    "    Retorna:\n",
    "    - El valor imputado si es NaN, o el valor original si no lo es.\n",
    "    \"\"\"\n",
    "    # Verificar si el valor en la columna especificada es NaN y si el grupo de trabajo tiene una moda definida\n",
    "    if pd.isna(row[column_name]) and row[group_col] in mode_per_grp_col:\n",
    "        return mode_per_grp_col[row[group_col]]\n",
    "    return row[column_name]"
   ],
   "outputs": [],
   "execution_count": 12
  },
  {
   "metadata": {},
   "cell_type": "markdown",
   "source": "# 3. Trabajando con la data"
  },
  {
   "metadata": {
    "ExecuteTime": {
     "end_time": "2024-05-05T00:10:20.374295Z",
     "start_time": "2024-05-05T00:10:20.368492Z"
    }
   },
   "cell_type": "code",
   "source": "len(df)",
   "outputs": [
    {
     "data": {
      "text/plain": [
       "32538"
      ]
     },
     "execution_count": 13,
     "metadata": {},
     "output_type": "execute_result"
    }
   ],
   "execution_count": 13
  },
  {
   "metadata": {
    "ExecuteTime": {
     "end_time": "2024-05-05T00:10:20.407351Z",
     "start_time": "2024-05-05T00:10:20.402713Z"
    }
   },
   "cell_type": "code",
   "source": "len(test)",
   "outputs": [
    {
     "data": {
      "text/plain": [
       "12769"
      ]
     },
     "execution_count": 14,
     "metadata": {},
     "output_type": "execute_result"
    }
   ],
   "execution_count": 14
  },
  {
   "metadata": {
    "ExecuteTime": {
     "end_time": "2024-05-05T00:10:20.503769Z",
     "start_time": "2024-05-05T00:10:20.483464Z"
    }
   },
   "cell_type": "code",
   "source": "conteo_valores_nulos(df)",
   "outputs": [
    {
     "data": {
      "text/plain": [
       "                  column_name  total_nan  percentage_nan\n",
       "12       dias_ultimo_contacto      31356       96.367324\n",
       "4              default_credit       6766       20.794148\n",
       "3                   educacion       1389        4.268855\n",
       "5              prest_vivienda        765        2.351097\n",
       "6              prest_personal        765        2.351097\n",
       "1                     trabajo        264        0.811359\n",
       "2                estado_civil         58        0.178253\n",
       "0                        edad          0        0.000000\n",
       "14    resultado_camp_anterior          0        0.000000\n",
       "18                       ti3m          0        0.000000\n",
       "17                        ict          0        0.000000\n",
       "16                        ipc          0        0.000000\n",
       "15      tasa_variacion_empleo          0        0.000000\n",
       "10                   duracion          0        0.000000\n",
       "13  contactos_prev_realizados          0        0.000000\n",
       "11     num_contact_realizados          0        0.000000\n",
       "9                  dia_semana          0        0.000000\n",
       "8                         mes          0        0.000000\n",
       "7                     contact          0        0.000000\n",
       "19           num_trabajadores          0        0.000000"
      ],
      "text/html": [
       "<div>\n",
       "<style scoped>\n",
       "    .dataframe tbody tr th:only-of-type {\n",
       "        vertical-align: middle;\n",
       "    }\n",
       "\n",
       "    .dataframe tbody tr th {\n",
       "        vertical-align: top;\n",
       "    }\n",
       "\n",
       "    .dataframe thead th {\n",
       "        text-align: right;\n",
       "    }\n",
       "</style>\n",
       "<table border=\"1\" class=\"dataframe\">\n",
       "  <thead>\n",
       "    <tr style=\"text-align: right;\">\n",
       "      <th></th>\n",
       "      <th>column_name</th>\n",
       "      <th>total_nan</th>\n",
       "      <th>percentage_nan</th>\n",
       "    </tr>\n",
       "  </thead>\n",
       "  <tbody>\n",
       "    <tr>\n",
       "      <th>12</th>\n",
       "      <td>dias_ultimo_contacto</td>\n",
       "      <td>31356</td>\n",
       "      <td>96.367324</td>\n",
       "    </tr>\n",
       "    <tr>\n",
       "      <th>4</th>\n",
       "      <td>default_credit</td>\n",
       "      <td>6766</td>\n",
       "      <td>20.794148</td>\n",
       "    </tr>\n",
       "    <tr>\n",
       "      <th>3</th>\n",
       "      <td>educacion</td>\n",
       "      <td>1389</td>\n",
       "      <td>4.268855</td>\n",
       "    </tr>\n",
       "    <tr>\n",
       "      <th>5</th>\n",
       "      <td>prest_vivienda</td>\n",
       "      <td>765</td>\n",
       "      <td>2.351097</td>\n",
       "    </tr>\n",
       "    <tr>\n",
       "      <th>6</th>\n",
       "      <td>prest_personal</td>\n",
       "      <td>765</td>\n",
       "      <td>2.351097</td>\n",
       "    </tr>\n",
       "    <tr>\n",
       "      <th>1</th>\n",
       "      <td>trabajo</td>\n",
       "      <td>264</td>\n",
       "      <td>0.811359</td>\n",
       "    </tr>\n",
       "    <tr>\n",
       "      <th>2</th>\n",
       "      <td>estado_civil</td>\n",
       "      <td>58</td>\n",
       "      <td>0.178253</td>\n",
       "    </tr>\n",
       "    <tr>\n",
       "      <th>0</th>\n",
       "      <td>edad</td>\n",
       "      <td>0</td>\n",
       "      <td>0.000000</td>\n",
       "    </tr>\n",
       "    <tr>\n",
       "      <th>14</th>\n",
       "      <td>resultado_camp_anterior</td>\n",
       "      <td>0</td>\n",
       "      <td>0.000000</td>\n",
       "    </tr>\n",
       "    <tr>\n",
       "      <th>18</th>\n",
       "      <td>ti3m</td>\n",
       "      <td>0</td>\n",
       "      <td>0.000000</td>\n",
       "    </tr>\n",
       "    <tr>\n",
       "      <th>17</th>\n",
       "      <td>ict</td>\n",
       "      <td>0</td>\n",
       "      <td>0.000000</td>\n",
       "    </tr>\n",
       "    <tr>\n",
       "      <th>16</th>\n",
       "      <td>ipc</td>\n",
       "      <td>0</td>\n",
       "      <td>0.000000</td>\n",
       "    </tr>\n",
       "    <tr>\n",
       "      <th>15</th>\n",
       "      <td>tasa_variacion_empleo</td>\n",
       "      <td>0</td>\n",
       "      <td>0.000000</td>\n",
       "    </tr>\n",
       "    <tr>\n",
       "      <th>10</th>\n",
       "      <td>duracion</td>\n",
       "      <td>0</td>\n",
       "      <td>0.000000</td>\n",
       "    </tr>\n",
       "    <tr>\n",
       "      <th>13</th>\n",
       "      <td>contactos_prev_realizados</td>\n",
       "      <td>0</td>\n",
       "      <td>0.000000</td>\n",
       "    </tr>\n",
       "    <tr>\n",
       "      <th>11</th>\n",
       "      <td>num_contact_realizados</td>\n",
       "      <td>0</td>\n",
       "      <td>0.000000</td>\n",
       "    </tr>\n",
       "    <tr>\n",
       "      <th>9</th>\n",
       "      <td>dia_semana</td>\n",
       "      <td>0</td>\n",
       "      <td>0.000000</td>\n",
       "    </tr>\n",
       "    <tr>\n",
       "      <th>8</th>\n",
       "      <td>mes</td>\n",
       "      <td>0</td>\n",
       "      <td>0.000000</td>\n",
       "    </tr>\n",
       "    <tr>\n",
       "      <th>7</th>\n",
       "      <td>contact</td>\n",
       "      <td>0</td>\n",
       "      <td>0.000000</td>\n",
       "    </tr>\n",
       "    <tr>\n",
       "      <th>19</th>\n",
       "      <td>num_trabajadores</td>\n",
       "      <td>0</td>\n",
       "      <td>0.000000</td>\n",
       "    </tr>\n",
       "  </tbody>\n",
       "</table>\n",
       "</div>"
      ]
     },
     "execution_count": 15,
     "metadata": {},
     "output_type": "execute_result"
    }
   ],
   "execution_count": 15
  },
  {
   "metadata": {
    "ExecuteTime": {
     "end_time": "2024-05-05T00:10:20.536824Z",
     "start_time": "2024-05-05T00:10:20.523476Z"
    }
   },
   "cell_type": "code",
   "source": "conteo_valores_nulos(test)",
   "outputs": [
    {
     "data": {
      "text/plain": [
       "                  column_name  total_nan  percentage_nan\n",
       "12       dias_ultimo_contacto      12276       96.139087\n",
       "4              default_credit       2634       20.628084\n",
       "3                   educacion        509        3.986217\n",
       "5              prest_vivienda        330        2.584384\n",
       "6              prest_personal        330        2.584384\n",
       "1                     trabajo        105        0.822304\n",
       "2                estado_civil         33        0.258438\n",
       "0                        edad          0        0.000000\n",
       "14    resultado_camp_anterior          0        0.000000\n",
       "18                       ti3m          0        0.000000\n",
       "17                        ict          0        0.000000\n",
       "16                        ipc          0        0.000000\n",
       "15      tasa_variacion_empleo          0        0.000000\n",
       "10                   duracion          0        0.000000\n",
       "13  contactos_prev_realizados          0        0.000000\n",
       "11     num_contact_realizados          0        0.000000\n",
       "9                  dia_semana          0        0.000000\n",
       "8                         mes          0        0.000000\n",
       "7                     contact          0        0.000000\n",
       "19           num_trabajadores          0        0.000000"
      ],
      "text/html": [
       "<div>\n",
       "<style scoped>\n",
       "    .dataframe tbody tr th:only-of-type {\n",
       "        vertical-align: middle;\n",
       "    }\n",
       "\n",
       "    .dataframe tbody tr th {\n",
       "        vertical-align: top;\n",
       "    }\n",
       "\n",
       "    .dataframe thead th {\n",
       "        text-align: right;\n",
       "    }\n",
       "</style>\n",
       "<table border=\"1\" class=\"dataframe\">\n",
       "  <thead>\n",
       "    <tr style=\"text-align: right;\">\n",
       "      <th></th>\n",
       "      <th>column_name</th>\n",
       "      <th>total_nan</th>\n",
       "      <th>percentage_nan</th>\n",
       "    </tr>\n",
       "  </thead>\n",
       "  <tbody>\n",
       "    <tr>\n",
       "      <th>12</th>\n",
       "      <td>dias_ultimo_contacto</td>\n",
       "      <td>12276</td>\n",
       "      <td>96.139087</td>\n",
       "    </tr>\n",
       "    <tr>\n",
       "      <th>4</th>\n",
       "      <td>default_credit</td>\n",
       "      <td>2634</td>\n",
       "      <td>20.628084</td>\n",
       "    </tr>\n",
       "    <tr>\n",
       "      <th>3</th>\n",
       "      <td>educacion</td>\n",
       "      <td>509</td>\n",
       "      <td>3.986217</td>\n",
       "    </tr>\n",
       "    <tr>\n",
       "      <th>5</th>\n",
       "      <td>prest_vivienda</td>\n",
       "      <td>330</td>\n",
       "      <td>2.584384</td>\n",
       "    </tr>\n",
       "    <tr>\n",
       "      <th>6</th>\n",
       "      <td>prest_personal</td>\n",
       "      <td>330</td>\n",
       "      <td>2.584384</td>\n",
       "    </tr>\n",
       "    <tr>\n",
       "      <th>1</th>\n",
       "      <td>trabajo</td>\n",
       "      <td>105</td>\n",
       "      <td>0.822304</td>\n",
       "    </tr>\n",
       "    <tr>\n",
       "      <th>2</th>\n",
       "      <td>estado_civil</td>\n",
       "      <td>33</td>\n",
       "      <td>0.258438</td>\n",
       "    </tr>\n",
       "    <tr>\n",
       "      <th>0</th>\n",
       "      <td>edad</td>\n",
       "      <td>0</td>\n",
       "      <td>0.000000</td>\n",
       "    </tr>\n",
       "    <tr>\n",
       "      <th>14</th>\n",
       "      <td>resultado_camp_anterior</td>\n",
       "      <td>0</td>\n",
       "      <td>0.000000</td>\n",
       "    </tr>\n",
       "    <tr>\n",
       "      <th>18</th>\n",
       "      <td>ti3m</td>\n",
       "      <td>0</td>\n",
       "      <td>0.000000</td>\n",
       "    </tr>\n",
       "    <tr>\n",
       "      <th>17</th>\n",
       "      <td>ict</td>\n",
       "      <td>0</td>\n",
       "      <td>0.000000</td>\n",
       "    </tr>\n",
       "    <tr>\n",
       "      <th>16</th>\n",
       "      <td>ipc</td>\n",
       "      <td>0</td>\n",
       "      <td>0.000000</td>\n",
       "    </tr>\n",
       "    <tr>\n",
       "      <th>15</th>\n",
       "      <td>tasa_variacion_empleo</td>\n",
       "      <td>0</td>\n",
       "      <td>0.000000</td>\n",
       "    </tr>\n",
       "    <tr>\n",
       "      <th>10</th>\n",
       "      <td>duracion</td>\n",
       "      <td>0</td>\n",
       "      <td>0.000000</td>\n",
       "    </tr>\n",
       "    <tr>\n",
       "      <th>13</th>\n",
       "      <td>contactos_prev_realizados</td>\n",
       "      <td>0</td>\n",
       "      <td>0.000000</td>\n",
       "    </tr>\n",
       "    <tr>\n",
       "      <th>11</th>\n",
       "      <td>num_contact_realizados</td>\n",
       "      <td>0</td>\n",
       "      <td>0.000000</td>\n",
       "    </tr>\n",
       "    <tr>\n",
       "      <th>9</th>\n",
       "      <td>dia_semana</td>\n",
       "      <td>0</td>\n",
       "      <td>0.000000</td>\n",
       "    </tr>\n",
       "    <tr>\n",
       "      <th>8</th>\n",
       "      <td>mes</td>\n",
       "      <td>0</td>\n",
       "      <td>0.000000</td>\n",
       "    </tr>\n",
       "    <tr>\n",
       "      <th>7</th>\n",
       "      <td>contact</td>\n",
       "      <td>0</td>\n",
       "      <td>0.000000</td>\n",
       "    </tr>\n",
       "    <tr>\n",
       "      <th>19</th>\n",
       "      <td>num_trabajadores</td>\n",
       "      <td>0</td>\n",
       "      <td>0.000000</td>\n",
       "    </tr>\n",
       "  </tbody>\n",
       "</table>\n",
       "</div>"
      ]
     },
     "execution_count": 16,
     "metadata": {},
     "output_type": "execute_result"
    }
   ],
   "execution_count": 16
  },
  {
   "metadata": {},
   "cell_type": "markdown",
   "source": "## 3.1. Valores nulos por columna"
  },
  {
   "metadata": {},
   "cell_type": "markdown",
   "source": "## 3.2. Imputando datos a valores NaN"
  },
  {
   "metadata": {},
   "cell_type": "markdown",
   "source": "### 3.2.1. Imputando data con la moda global de columna"
  },
  {
   "metadata": {
    "ExecuteTime": {
     "end_time": "2024-05-05T00:10:20.624697Z",
     "start_time": "2024-05-05T00:10:20.604312Z"
    }
   },
   "cell_type": "code",
   "source": [
    "# Inicializa el SimpleImputer\n",
    "imputer = SimpleImputer(strategy='most_frequent')\n",
    "\n",
    "# Columnas que necesitan ser imputadas\n",
    "columns_to_impute = ['prest_personal', 'prest_vivienda', 'default_credit', 'estado_civil']\n",
    "\n",
    "# Imputa los valores faltantes en las columnas seleccionadas\n",
    "df[columns_to_impute] = imputer.fit_transform(df[columns_to_impute])"
   ],
   "outputs": [],
   "execution_count": 17
  },
  {
   "metadata": {
    "ExecuteTime": {
     "end_time": "2024-05-05T00:10:20.643032Z",
     "start_time": "2024-05-05T00:10:20.630893Z"
    }
   },
   "cell_type": "code",
   "source": [
    "# Inicializa el SimpleImputer\n",
    "imputer = SimpleImputer(strategy='most_frequent')\n",
    "\n",
    "# Columnas que necesitan ser imputadas\n",
    "columns_to_impute = ['prest_personal', 'prest_vivienda', 'default_credit', 'estado_civil']\n",
    "\n",
    "# Imputa los valores faltantes en las columnas seleccionadas\n",
    "test[columns_to_impute] = imputer.fit_transform(test[columns_to_impute])"
   ],
   "outputs": [],
   "execution_count": 18
  },
  {
   "metadata": {
    "ExecuteTime": {
     "end_time": "2024-05-05T00:10:20.715070Z",
     "start_time": "2024-05-05T00:10:20.712635Z"
    }
   },
   "cell_type": "code",
   "source": [
    "#imputer = SimpleImputer(strategy='most_frequent')\n",
    "#df['prest_personal'] = imputer.fit_transform(df[['prest_personal']]).ravel()\n",
    "#df['prest_vivienda'] = imputer.fit_transform(df[['prest_vivienda']]).ravel()\n",
    "#df['default_credit'] = imputer.fit_transform(df[['default_credit']]).ravel()\n",
    "#df['estado_civil'] = imputer.fit_transform(df[['estado_civil']]).ravel() "
   ],
   "outputs": [],
   "execution_count": 19
  },
  {
   "metadata": {
    "ExecuteTime": {
     "end_time": "2024-05-05T00:10:20.840239Z",
     "start_time": "2024-05-05T00:10:20.827682Z"
    }
   },
   "cell_type": "code",
   "source": "conteo_valores_nulos(test)",
   "outputs": [
    {
     "data": {
      "text/plain": [
       "                  column_name  total_nan  percentage_nan\n",
       "12       dias_ultimo_contacto      12276       96.139087\n",
       "3                   educacion        509        3.986217\n",
       "1                     trabajo        105        0.822304\n",
       "0                        edad          0        0.000000\n",
       "11     num_contact_realizados          0        0.000000\n",
       "18                       ti3m          0        0.000000\n",
       "17                        ict          0        0.000000\n",
       "16                        ipc          0        0.000000\n",
       "15      tasa_variacion_empleo          0        0.000000\n",
       "14    resultado_camp_anterior          0        0.000000\n",
       "13  contactos_prev_realizados          0        0.000000\n",
       "10                   duracion          0        0.000000\n",
       "9                  dia_semana          0        0.000000\n",
       "8                         mes          0        0.000000\n",
       "7                     contact          0        0.000000\n",
       "6              prest_personal          0        0.000000\n",
       "5              prest_vivienda          0        0.000000\n",
       "4              default_credit          0        0.000000\n",
       "2                estado_civil          0        0.000000\n",
       "19           num_trabajadores          0        0.000000"
      ],
      "text/html": [
       "<div>\n",
       "<style scoped>\n",
       "    .dataframe tbody tr th:only-of-type {\n",
       "        vertical-align: middle;\n",
       "    }\n",
       "\n",
       "    .dataframe tbody tr th {\n",
       "        vertical-align: top;\n",
       "    }\n",
       "\n",
       "    .dataframe thead th {\n",
       "        text-align: right;\n",
       "    }\n",
       "</style>\n",
       "<table border=\"1\" class=\"dataframe\">\n",
       "  <thead>\n",
       "    <tr style=\"text-align: right;\">\n",
       "      <th></th>\n",
       "      <th>column_name</th>\n",
       "      <th>total_nan</th>\n",
       "      <th>percentage_nan</th>\n",
       "    </tr>\n",
       "  </thead>\n",
       "  <tbody>\n",
       "    <tr>\n",
       "      <th>12</th>\n",
       "      <td>dias_ultimo_contacto</td>\n",
       "      <td>12276</td>\n",
       "      <td>96.139087</td>\n",
       "    </tr>\n",
       "    <tr>\n",
       "      <th>3</th>\n",
       "      <td>educacion</td>\n",
       "      <td>509</td>\n",
       "      <td>3.986217</td>\n",
       "    </tr>\n",
       "    <tr>\n",
       "      <th>1</th>\n",
       "      <td>trabajo</td>\n",
       "      <td>105</td>\n",
       "      <td>0.822304</td>\n",
       "    </tr>\n",
       "    <tr>\n",
       "      <th>0</th>\n",
       "      <td>edad</td>\n",
       "      <td>0</td>\n",
       "      <td>0.000000</td>\n",
       "    </tr>\n",
       "    <tr>\n",
       "      <th>11</th>\n",
       "      <td>num_contact_realizados</td>\n",
       "      <td>0</td>\n",
       "      <td>0.000000</td>\n",
       "    </tr>\n",
       "    <tr>\n",
       "      <th>18</th>\n",
       "      <td>ti3m</td>\n",
       "      <td>0</td>\n",
       "      <td>0.000000</td>\n",
       "    </tr>\n",
       "    <tr>\n",
       "      <th>17</th>\n",
       "      <td>ict</td>\n",
       "      <td>0</td>\n",
       "      <td>0.000000</td>\n",
       "    </tr>\n",
       "    <tr>\n",
       "      <th>16</th>\n",
       "      <td>ipc</td>\n",
       "      <td>0</td>\n",
       "      <td>0.000000</td>\n",
       "    </tr>\n",
       "    <tr>\n",
       "      <th>15</th>\n",
       "      <td>tasa_variacion_empleo</td>\n",
       "      <td>0</td>\n",
       "      <td>0.000000</td>\n",
       "    </tr>\n",
       "    <tr>\n",
       "      <th>14</th>\n",
       "      <td>resultado_camp_anterior</td>\n",
       "      <td>0</td>\n",
       "      <td>0.000000</td>\n",
       "    </tr>\n",
       "    <tr>\n",
       "      <th>13</th>\n",
       "      <td>contactos_prev_realizados</td>\n",
       "      <td>0</td>\n",
       "      <td>0.000000</td>\n",
       "    </tr>\n",
       "    <tr>\n",
       "      <th>10</th>\n",
       "      <td>duracion</td>\n",
       "      <td>0</td>\n",
       "      <td>0.000000</td>\n",
       "    </tr>\n",
       "    <tr>\n",
       "      <th>9</th>\n",
       "      <td>dia_semana</td>\n",
       "      <td>0</td>\n",
       "      <td>0.000000</td>\n",
       "    </tr>\n",
       "    <tr>\n",
       "      <th>8</th>\n",
       "      <td>mes</td>\n",
       "      <td>0</td>\n",
       "      <td>0.000000</td>\n",
       "    </tr>\n",
       "    <tr>\n",
       "      <th>7</th>\n",
       "      <td>contact</td>\n",
       "      <td>0</td>\n",
       "      <td>0.000000</td>\n",
       "    </tr>\n",
       "    <tr>\n",
       "      <th>6</th>\n",
       "      <td>prest_personal</td>\n",
       "      <td>0</td>\n",
       "      <td>0.000000</td>\n",
       "    </tr>\n",
       "    <tr>\n",
       "      <th>5</th>\n",
       "      <td>prest_vivienda</td>\n",
       "      <td>0</td>\n",
       "      <td>0.000000</td>\n",
       "    </tr>\n",
       "    <tr>\n",
       "      <th>4</th>\n",
       "      <td>default_credit</td>\n",
       "      <td>0</td>\n",
       "      <td>0.000000</td>\n",
       "    </tr>\n",
       "    <tr>\n",
       "      <th>2</th>\n",
       "      <td>estado_civil</td>\n",
       "      <td>0</td>\n",
       "      <td>0.000000</td>\n",
       "    </tr>\n",
       "    <tr>\n",
       "      <th>19</th>\n",
       "      <td>num_trabajadores</td>\n",
       "      <td>0</td>\n",
       "      <td>0.000000</td>\n",
       "    </tr>\n",
       "  </tbody>\n",
       "</table>\n",
       "</div>"
      ]
     },
     "execution_count": 20,
     "metadata": {},
     "output_type": "execute_result"
    }
   ],
   "execution_count": 20
  },
  {
   "metadata": {
    "ExecuteTime": {
     "end_time": "2024-05-05T00:10:20.985096Z",
     "start_time": "2024-05-05T00:10:20.982693Z"
    }
   },
   "cell_type": "code",
   "source": [
    "#imputer = SimpleImputer(strategy='most_frequent')\n",
    "#test['prest_personal'] = imputer.fit_transform(test[['prest_personal']]).ravel()\n",
    "#test['prest_vivienda'] = imputer.fit_transform(test[['prest_vivienda']]).ravel()\n",
    "#test['default_credit'] = imputer.fit_transform(test[['default_credit']]).ravel()\n",
    "#test['estado_civil'] = imputer.fit_transform(test[['estado_civil']]).ravel()"
   ],
   "outputs": [],
   "execution_count": 21
  },
  {
   "metadata": {
    "ExecuteTime": {
     "end_time": "2024-05-05T00:10:21.067371Z",
     "start_time": "2024-05-05T00:10:21.064414Z"
    }
   },
   "cell_type": "code",
   "source": "# conteo_valores_nulos(df)",
   "outputs": [],
   "execution_count": 22
  },
  {
   "metadata": {
    "ExecuteTime": {
     "end_time": "2024-05-05T00:10:21.130262Z",
     "start_time": "2024-05-05T00:10:21.128214Z"
    }
   },
   "cell_type": "code",
   "source": [
    "# Datos que no se podrán relacionar\n",
    "#len(df[(df.educacion.isna()) & (df.trabajo.isna())])"
   ],
   "outputs": [],
   "execution_count": 23
  },
  {
   "metadata": {
    "ExecuteTime": {
     "end_time": "2024-05-05T00:10:21.257282Z",
     "start_time": "2024-05-05T00:10:21.254931Z"
    }
   },
   "cell_type": "code",
   "source": "#len(test[(test.educacion.isna()) & (test.trabajo.isna())])",
   "outputs": [],
   "execution_count": 24
  },
  {
   "metadata": {},
   "cell_type": "markdown",
   "source": "### 3.2.2. Imputando data con la moda respecto de otra columna"
  },
  {
   "metadata": {},
   "cell_type": "markdown",
   "source": "#### 3.2.2.1. Completamos Educacion con la moda de sus grupos respectivos en Trabajo"
  },
  {
   "metadata": {
    "ExecuteTime": {
     "end_time": "2024-05-05T00:10:21.315347Z",
     "start_time": "2024-05-05T00:10:21.287377Z"
    }
   },
   "cell_type": "code",
   "source": [
    "mode_per_work = df.dropna(subset=['educacion']).groupby('trabajo')['educacion'].agg(lambda x: pd.Series.mode(x).iloc[0])\n",
    "mode_per_work"
   ],
   "outputs": [
    {
     "data": {
      "text/plain": [
       "trabajo\n",
       "administración                 grado_universitario\n",
       "administrador                  grado_universitario\n",
       "desempleado                    secundaria_completa\n",
       "empleada_domestica                primaria_4_grado\n",
       "empleado_ por_cuenta_propia    grado_universitario\n",
       "emprendedor                    grado_universitario\n",
       "estudiante                     secundaria_completa\n",
       "retirado                          primaria_4_grado\n",
       "servicios                      secundaria_completa\n",
       "tecnico                          curso_profesional\n",
       "trabajador_industria              primaria_3_grado\n",
       "Name: educacion, dtype: object"
      ]
     },
     "execution_count": 25,
     "metadata": {},
     "output_type": "execute_result"
    }
   ],
   "execution_count": 25
  },
  {
   "metadata": {
    "ExecuteTime": {
     "end_time": "2024-05-05T00:10:21.558187Z",
     "start_time": "2024-05-05T00:10:21.345463Z"
    }
   },
   "cell_type": "code",
   "source": "df['educacion'] = df.apply(fill_with_mode, args=('educacion', mode_per_work, 'trabajo'), axis=1)",
   "outputs": [],
   "execution_count": 26
  },
  {
   "metadata": {
    "ExecuteTime": {
     "end_time": "2024-05-05T00:10:21.570994Z",
     "start_time": "2024-05-05T00:10:21.559306Z"
    }
   },
   "cell_type": "code",
   "source": [
    "mode_per_work = test.dropna(subset=['educacion']).groupby('trabajo')['educacion'].agg(lambda x: pd.Series.mode(x).iloc[0])\n",
    "mode_per_work"
   ],
   "outputs": [
    {
     "data": {
      "text/plain": [
       "trabajo\n",
       "administración                 grado_universitario\n",
       "administrador                  grado_universitario\n",
       "desempleado                    grado_universitario\n",
       "empleada_domestica                primaria_4_grado\n",
       "empleado_ por_cuenta_propia    grado_universitario\n",
       "emprendedor                    grado_universitario\n",
       "estudiante                     secundaria_completa\n",
       "retirado                          primaria_4_grado\n",
       "servicios                      secundaria_completa\n",
       "tecnico                          curso_profesional\n",
       "trabajador_industria              primaria_3_grado\n",
       "Name: educacion, dtype: object"
      ]
     },
     "execution_count": 27,
     "metadata": {},
     "output_type": "execute_result"
    }
   ],
   "execution_count": 27
  },
  {
   "metadata": {
    "ExecuteTime": {
     "end_time": "2024-05-05T00:10:21.660787Z",
     "start_time": "2024-05-05T00:10:21.571766Z"
    }
   },
   "cell_type": "code",
   "source": "test['educacion'] = test.apply(fill_with_mode, args=('educacion', mode_per_work, 'trabajo'), axis=1)",
   "outputs": [],
   "execution_count": 28
  },
  {
   "metadata": {
    "ExecuteTime": {
     "end_time": "2024-05-05T00:10:21.664664Z",
     "start_time": "2024-05-05T00:10:21.662447Z"
    }
   },
   "cell_type": "code",
   "source": "#conteo_valores_nulos(df)",
   "outputs": [],
   "execution_count": 29
  },
  {
   "metadata": {},
   "cell_type": "markdown",
   "source": "#### 3.2.2.2. Completamos Trabajo con la moda de sus grupos respectivos en Educacion"
  },
  {
   "metadata": {
    "ExecuteTime": {
     "end_time": "2024-05-05T00:10:21.682221Z",
     "start_time": "2024-05-05T00:10:21.666235Z"
    }
   },
   "cell_type": "code",
   "source": [
    "mode_per_education = df.dropna(subset=['trabajo']).groupby('educacion')['trabajo'].agg(lambda x: pd.Series.mode(x).iloc[0])\n",
    "mode_per_education"
   ],
   "outputs": [
    {
     "data": {
      "text/plain": [
       "educacion\n",
       "analfabeto             trabajador_industria\n",
       "curso_profesional                   tecnico\n",
       "grado_universitario           administrador\n",
       "primaria_3_grado       trabajador_industria\n",
       "primaria_4_grado       trabajador_industria\n",
       "primaria_6_grado       trabajador_industria\n",
       "secundaria_completa           administrador\n",
       "Name: trabajo, dtype: object"
      ]
     },
     "execution_count": 30,
     "metadata": {},
     "output_type": "execute_result"
    }
   ],
   "execution_count": 30
  },
  {
   "metadata": {
    "ExecuteTime": {
     "end_time": "2024-05-05T00:10:21.886856Z",
     "start_time": "2024-05-05T00:10:21.683572Z"
    }
   },
   "cell_type": "code",
   "source": "df['trabajo'] = df.apply(fill_with_mode, args=('trabajo', mode_per_education, 'educacion'), axis=1)",
   "outputs": [],
   "execution_count": 31
  },
  {
   "metadata": {
    "ExecuteTime": {
     "end_time": "2024-05-05T00:10:21.898785Z",
     "start_time": "2024-05-05T00:10:21.887849Z"
    }
   },
   "cell_type": "code",
   "source": [
    "mode_per_education = test.dropna(subset=['trabajo']).groupby('educacion')['trabajo'].agg(lambda x: pd.Series.mode(x).iloc[0])\n",
    "mode_per_education"
   ],
   "outputs": [
    {
     "data": {
      "text/plain": [
       "educacion\n",
       "analfabeto                      emprendedor\n",
       "curso_profesional                   tecnico\n",
       "grado_universitario           administrador\n",
       "primaria_3_grado       trabajador_industria\n",
       "primaria_4_grado       trabajador_industria\n",
       "primaria_6_grado       trabajador_industria\n",
       "secundaria_completa           administrador\n",
       "Name: trabajo, dtype: object"
      ]
     },
     "execution_count": 32,
     "metadata": {},
     "output_type": "execute_result"
    }
   ],
   "execution_count": 32
  },
  {
   "metadata": {
    "ExecuteTime": {
     "end_time": "2024-05-05T00:10:21.981378Z",
     "start_time": "2024-05-05T00:10:21.899831Z"
    }
   },
   "cell_type": "code",
   "source": "test['trabajo'] = test.apply(fill_with_mode, args=('trabajo', mode_per_education, 'educacion'), axis=1)",
   "outputs": [],
   "execution_count": 33
  },
  {
   "metadata": {
    "ExecuteTime": {
     "end_time": "2024-05-05T00:10:21.985100Z",
     "start_time": "2024-05-05T00:10:21.982621Z"
    }
   },
   "cell_type": "code",
   "source": "#conteo_valores_nulos(test)",
   "outputs": [],
   "execution_count": 34
  },
  {
   "metadata": {},
   "cell_type": "markdown",
   "source": "### 3.2.3. Imputando data en Education y Work con sus modas globales"
  },
  {
   "metadata": {
    "ExecuteTime": {
     "end_time": "2024-05-05T00:10:22.001787Z",
     "start_time": "2024-05-05T00:10:21.986716Z"
    }
   },
   "cell_type": "code",
   "source": [
    "imputer = SimpleImputer(strategy='most_frequent')\n",
    "df['trabajo'] = imputer.fit_transform(df[['trabajo']]).ravel()\n",
    "df['educacion'] = imputer.fit_transform(df[['educacion']]).ravel()"
   ],
   "outputs": [],
   "execution_count": 35
  },
  {
   "metadata": {
    "ExecuteTime": {
     "end_time": "2024-05-05T00:10:22.012759Z",
     "start_time": "2024-05-05T00:10:22.002624Z"
    }
   },
   "cell_type": "code",
   "source": [
    "imputer = SimpleImputer(strategy='most_frequent')\n",
    "test['trabajo'] = imputer.fit_transform(test[['trabajo']]).ravel()\n",
    "test['educacion'] = imputer.fit_transform(test[['educacion']]).ravel()"
   ],
   "outputs": [],
   "execution_count": 36
  },
  {
   "metadata": {
    "ExecuteTime": {
     "end_time": "2024-05-05T00:10:22.026286Z",
     "start_time": "2024-05-05T00:10:22.013595Z"
    }
   },
   "cell_type": "code",
   "source": "conteo_valores_nulos(test)",
   "outputs": [
    {
     "data": {
      "text/plain": [
       "                  column_name  total_nan  percentage_nan\n",
       "12       dias_ultimo_contacto      12276       96.139087\n",
       "0                        edad          0        0.000000\n",
       "1                     trabajo          0        0.000000\n",
       "18                       ti3m          0        0.000000\n",
       "17                        ict          0        0.000000\n",
       "16                        ipc          0        0.000000\n",
       "15      tasa_variacion_empleo          0        0.000000\n",
       "14    resultado_camp_anterior          0        0.000000\n",
       "13  contactos_prev_realizados          0        0.000000\n",
       "11     num_contact_realizados          0        0.000000\n",
       "10                   duracion          0        0.000000\n",
       "9                  dia_semana          0        0.000000\n",
       "8                         mes          0        0.000000\n",
       "7                     contact          0        0.000000\n",
       "6              prest_personal          0        0.000000\n",
       "5              prest_vivienda          0        0.000000\n",
       "4              default_credit          0        0.000000\n",
       "3                   educacion          0        0.000000\n",
       "2                estado_civil          0        0.000000\n",
       "19           num_trabajadores          0        0.000000"
      ],
      "text/html": [
       "<div>\n",
       "<style scoped>\n",
       "    .dataframe tbody tr th:only-of-type {\n",
       "        vertical-align: middle;\n",
       "    }\n",
       "\n",
       "    .dataframe tbody tr th {\n",
       "        vertical-align: top;\n",
       "    }\n",
       "\n",
       "    .dataframe thead th {\n",
       "        text-align: right;\n",
       "    }\n",
       "</style>\n",
       "<table border=\"1\" class=\"dataframe\">\n",
       "  <thead>\n",
       "    <tr style=\"text-align: right;\">\n",
       "      <th></th>\n",
       "      <th>column_name</th>\n",
       "      <th>total_nan</th>\n",
       "      <th>percentage_nan</th>\n",
       "    </tr>\n",
       "  </thead>\n",
       "  <tbody>\n",
       "    <tr>\n",
       "      <th>12</th>\n",
       "      <td>dias_ultimo_contacto</td>\n",
       "      <td>12276</td>\n",
       "      <td>96.139087</td>\n",
       "    </tr>\n",
       "    <tr>\n",
       "      <th>0</th>\n",
       "      <td>edad</td>\n",
       "      <td>0</td>\n",
       "      <td>0.000000</td>\n",
       "    </tr>\n",
       "    <tr>\n",
       "      <th>1</th>\n",
       "      <td>trabajo</td>\n",
       "      <td>0</td>\n",
       "      <td>0.000000</td>\n",
       "    </tr>\n",
       "    <tr>\n",
       "      <th>18</th>\n",
       "      <td>ti3m</td>\n",
       "      <td>0</td>\n",
       "      <td>0.000000</td>\n",
       "    </tr>\n",
       "    <tr>\n",
       "      <th>17</th>\n",
       "      <td>ict</td>\n",
       "      <td>0</td>\n",
       "      <td>0.000000</td>\n",
       "    </tr>\n",
       "    <tr>\n",
       "      <th>16</th>\n",
       "      <td>ipc</td>\n",
       "      <td>0</td>\n",
       "      <td>0.000000</td>\n",
       "    </tr>\n",
       "    <tr>\n",
       "      <th>15</th>\n",
       "      <td>tasa_variacion_empleo</td>\n",
       "      <td>0</td>\n",
       "      <td>0.000000</td>\n",
       "    </tr>\n",
       "    <tr>\n",
       "      <th>14</th>\n",
       "      <td>resultado_camp_anterior</td>\n",
       "      <td>0</td>\n",
       "      <td>0.000000</td>\n",
       "    </tr>\n",
       "    <tr>\n",
       "      <th>13</th>\n",
       "      <td>contactos_prev_realizados</td>\n",
       "      <td>0</td>\n",
       "      <td>0.000000</td>\n",
       "    </tr>\n",
       "    <tr>\n",
       "      <th>11</th>\n",
       "      <td>num_contact_realizados</td>\n",
       "      <td>0</td>\n",
       "      <td>0.000000</td>\n",
       "    </tr>\n",
       "    <tr>\n",
       "      <th>10</th>\n",
       "      <td>duracion</td>\n",
       "      <td>0</td>\n",
       "      <td>0.000000</td>\n",
       "    </tr>\n",
       "    <tr>\n",
       "      <th>9</th>\n",
       "      <td>dia_semana</td>\n",
       "      <td>0</td>\n",
       "      <td>0.000000</td>\n",
       "    </tr>\n",
       "    <tr>\n",
       "      <th>8</th>\n",
       "      <td>mes</td>\n",
       "      <td>0</td>\n",
       "      <td>0.000000</td>\n",
       "    </tr>\n",
       "    <tr>\n",
       "      <th>7</th>\n",
       "      <td>contact</td>\n",
       "      <td>0</td>\n",
       "      <td>0.000000</td>\n",
       "    </tr>\n",
       "    <tr>\n",
       "      <th>6</th>\n",
       "      <td>prest_personal</td>\n",
       "      <td>0</td>\n",
       "      <td>0.000000</td>\n",
       "    </tr>\n",
       "    <tr>\n",
       "      <th>5</th>\n",
       "      <td>prest_vivienda</td>\n",
       "      <td>0</td>\n",
       "      <td>0.000000</td>\n",
       "    </tr>\n",
       "    <tr>\n",
       "      <th>4</th>\n",
       "      <td>default_credit</td>\n",
       "      <td>0</td>\n",
       "      <td>0.000000</td>\n",
       "    </tr>\n",
       "    <tr>\n",
       "      <th>3</th>\n",
       "      <td>educacion</td>\n",
       "      <td>0</td>\n",
       "      <td>0.000000</td>\n",
       "    </tr>\n",
       "    <tr>\n",
       "      <th>2</th>\n",
       "      <td>estado_civil</td>\n",
       "      <td>0</td>\n",
       "      <td>0.000000</td>\n",
       "    </tr>\n",
       "    <tr>\n",
       "      <th>19</th>\n",
       "      <td>num_trabajadores</td>\n",
       "      <td>0</td>\n",
       "      <td>0.000000</td>\n",
       "    </tr>\n",
       "  </tbody>\n",
       "</table>\n",
       "</div>"
      ]
     },
     "execution_count": 37,
     "metadata": {},
     "output_type": "execute_result"
    }
   ],
   "execution_count": 37
  },
  {
   "metadata": {},
   "cell_type": "markdown",
   "source": "## 3.3. Guardando avance en formato parquet"
  },
  {
   "metadata": {
    "ExecuteTime": {
     "end_time": "2024-05-05T00:10:22.079235Z",
     "start_time": "2024-05-05T00:10:22.027244Z"
    }
   },
   "cell_type": "code",
   "source": "df.to_parquet('train.parquet', index=False)",
   "outputs": [],
   "execution_count": 38
  },
  {
   "metadata": {
    "ExecuteTime": {
     "end_time": "2024-05-05T00:10:22.105498Z",
     "start_time": "2024-05-05T00:10:22.080274Z"
    }
   },
   "cell_type": "code",
   "source": "test.to_parquet('test.parquet', index=False)",
   "outputs": [],
   "execution_count": 39
  },
  {
   "metadata": {
    "ExecuteTime": {
     "end_time": "2024-05-05T00:10:22.112779Z",
     "start_time": "2024-05-05T00:10:22.106497Z"
    }
   },
   "cell_type": "code",
   "source": "y.to_parquet('y.parquet', index=False)",
   "outputs": [],
   "execution_count": 40
  },
  {
   "metadata": {},
   "cell_type": "markdown",
   "source": "# 4. Transformando datos"
  },
  {
   "metadata": {
    "ExecuteTime": {
     "end_time": "2024-05-05T00:10:22.149677Z",
     "start_time": "2024-05-05T00:10:22.113610Z"
    }
   },
   "cell_type": "code",
   "source": [
    "df = pd.read_parquet('train.parquet')\n",
    "test = pd.read_parquet('test.parquet')\n",
    "y = pd.read_parquet('y.parquet')"
   ],
   "outputs": [],
   "execution_count": 41
  },
  {
   "metadata": {
    "ExecuteTime": {
     "end_time": "2024-05-05T00:10:22.154549Z",
     "start_time": "2024-05-05T00:10:22.152044Z"
    }
   },
   "cell_type": "code",
   "source": "pd.set_option('future.no_silent_downcasting', True)",
   "outputs": [],
   "execution_count": 42
  },
  {
   "metadata": {
    "ExecuteTime": {
     "end_time": "2024-05-05T00:10:22.195906Z",
     "start_time": "2024-05-05T00:10:22.155554Z"
    }
   },
   "cell_type": "code",
   "source": [
    "# Convertimos todos los \"si\" y \"no\" en 1 y 0 respectivamente.\n",
    "df.replace({'si':1, 'no':0},inplace=True)\n",
    "test.replace({'si':1, 'no':0},inplace=True)\n",
    "y.replace({'si':1, 'no':0},inplace=True)"
   ],
   "outputs": [],
   "execution_count": 43
  },
  {
   "metadata": {
    "ExecuteTime": {
     "end_time": "2024-05-05T00:10:22.200658Z",
     "start_time": "2024-05-05T00:10:22.196995Z"
    }
   },
   "cell_type": "code",
   "source": "y['subscripcion_deposito'] = y['subscripcion_deposito'].astype(int)",
   "outputs": [],
   "execution_count": 44
  },
  {
   "metadata": {
    "ExecuteTime": {
     "end_time": "2024-05-05T00:10:22.210188Z",
     "start_time": "2024-05-05T00:10:22.203948Z"
    }
   },
   "cell_type": "code",
   "source": [
    "df['default_credit'] = df['default_credit'].astype(int)\n",
    "df['prest_vivienda'] = df['prest_vivienda'].astype(int)\n",
    "df['prest_personal'] = df['prest_personal'].astype(int)"
   ],
   "outputs": [],
   "execution_count": 45
  },
  {
   "metadata": {
    "ExecuteTime": {
     "end_time": "2024-05-05T00:10:22.321322Z",
     "start_time": "2024-05-05T00:10:22.314066Z"
    }
   },
   "cell_type": "code",
   "source": [
    "test['default_credit'] = test['default_credit'].astype(int)\n",
    "test['prest_vivienda'] = test['prest_vivienda'].astype(int)\n",
    "test['prest_personal'] = test['prest_personal'].astype(int)"
   ],
   "outputs": [],
   "execution_count": 46
  },
  {
   "metadata": {
    "ExecuteTime": {
     "end_time": "2024-05-05T00:10:22.438841Z",
     "start_time": "2024-05-05T00:10:22.436254Z"
    }
   },
   "cell_type": "code",
   "source": "#conteo_valores_unicos(df, 'default_credit')",
   "outputs": [],
   "execution_count": 47
  },
  {
   "metadata": {
    "ExecuteTime": {
     "end_time": "2024-05-05T00:10:22.531373Z",
     "start_time": "2024-05-05T00:10:22.528945Z"
    }
   },
   "cell_type": "code",
   "source": "#conteo_valores_unicos(df, 'subscripcion_deposito')",
   "outputs": [],
   "execution_count": 48
  },
  {
   "metadata": {
    "ExecuteTime": {
     "end_time": "2024-05-05T00:10:22.583300Z",
     "start_time": "2024-05-05T00:10:22.579776Z"
    }
   },
   "cell_type": "code",
   "source": [
    "#df.default_credit.var()\n",
    "#df.dias_ultimo_contacto.var()"
   ],
   "outputs": [],
   "execution_count": 49
  },
  {
   "metadata": {
    "ExecuteTime": {
     "end_time": "2024-05-05T00:10:22.629646Z",
     "start_time": "2024-05-05T00:10:22.621598Z"
    }
   },
   "cell_type": "code",
   "source": [
    "# Calculo de la varianza de las columnas de datos\n",
    "variances = df[['edad', 'default_credit', 'duracion', 'num_contact_realizados', 'dias_ultimo_contacto', 'contactos_prev_realizados', 'tasa_variacion_empleo', 'ipc', 'ict', 'ti3m', 'num_trabajadores']].var()\n",
    "low_variance_cols = variances[variances < 0.01].index\n",
    "print(\"Columnas con varianza baja:\", low_variance_cols)"
   ],
   "outputs": [
    {
     "name": "stdout",
     "output_type": "stream",
     "text": [
      "Columnas con varianza baja: Index(['default_credit'], dtype='object')\n"
     ]
    }
   ],
   "execution_count": 50
  },
  {
   "metadata": {
    "ExecuteTime": {
     "end_time": "2024-05-05T00:10:22.676887Z",
     "start_time": "2024-05-05T00:10:22.669694Z"
    }
   },
   "cell_type": "code",
   "source": [
    "df.drop('default_credit', axis=1, inplace=True)\n",
    "test.drop('default_credit', axis=1, inplace=True)"
   ],
   "outputs": [],
   "execution_count": 51
  },
  {
   "metadata": {
    "ExecuteTime": {
     "end_time": "2024-05-05T00:10:22.724861Z",
     "start_time": "2024-05-05T00:10:22.722428Z"
    }
   },
   "cell_type": "code",
   "source": "#df.sample(n=10)",
   "outputs": [],
   "execution_count": 52
  },
  {
   "metadata": {
    "ExecuteTime": {
     "end_time": "2024-05-05T00:10:22.803464Z",
     "start_time": "2024-05-05T00:10:22.801102Z"
    }
   },
   "cell_type": "code",
   "source": "#df[['subscripcion_deposito', 'dias_ultimo_contacto']].value_counts(dropna=False)",
   "outputs": [],
   "execution_count": 53
  },
  {
   "metadata": {
    "ExecuteTime": {
     "end_time": "2024-05-05T00:10:22.851655Z",
     "start_time": "2024-05-05T00:10:22.848437Z"
    }
   },
   "cell_type": "code",
   "source": "#conteo_valores_unicos(df, 'subscripcion_deposito')*100/len(df)",
   "outputs": [],
   "execution_count": 54
  },
  {
   "metadata": {
    "ExecuteTime": {
     "end_time": "2024-05-05T00:10:22.908592Z",
     "start_time": "2024-05-05T00:10:22.902948Z"
    }
   },
   "cell_type": "code",
   "source": "conteo_valores_unicos(df, 'dias_ultimo_contacto')*100/len(df)",
   "outputs": [
    {
     "data": {
      "text/plain": [
       "dias_ultimo_contacto\n",
       "NaN     96.367324\n",
       "3.0      1.054152\n",
       "6.0      0.983465\n",
       "4.0      0.288893\n",
       "9.0      0.156740\n",
       "7.0      0.153666\n",
       "12.0     0.138300\n",
       "2.0      0.135227\n",
       "5.0      0.110640\n",
       "10.0     0.098347\n",
       "13.0     0.095273\n",
       "15.0     0.064540\n",
       "11.0     0.064540\n",
       "1.0      0.052247\n",
       "14.0     0.049173\n",
       "8.0      0.049173\n",
       "0.0      0.036880\n",
       "16.0     0.033807\n",
       "17.0     0.018440\n",
       "18.0     0.012293\n",
       "22.0     0.009220\n",
       "19.0     0.009220\n",
       "21.0     0.006147\n",
       "25.0     0.003073\n",
       "26.0     0.003073\n",
       "27.0     0.003073\n",
       "20.0     0.003073\n",
       "Name: count, dtype: float64"
      ]
     },
     "execution_count": 55,
     "metadata": {},
     "output_type": "execute_result"
    }
   ],
   "execution_count": 55
  },
  {
   "metadata": {
    "ExecuteTime": {
     "end_time": "2024-05-05T00:10:22.938210Z",
     "start_time": "2024-05-05T00:10:22.931274Z"
    }
   },
   "cell_type": "code",
   "source": [
    "# Eliminaremos \"dias_ultimo_contacto\" porque no se puede imputar al 96% de datos.\n",
    "df.drop('dias_ultimo_contacto', axis=1, inplace=True)\n",
    "test.drop('dias_ultimo_contacto', axis=1, inplace=True)"
   ],
   "outputs": [],
   "execution_count": 56
  },
  {
   "metadata": {
    "ExecuteTime": {
     "end_time": "2024-05-05T00:10:23.003538Z",
     "start_time": "2024-05-05T00:10:23.000996Z"
    }
   },
   "cell_type": "code",
   "source": "#conteo_valores_unicos(df, 'resultado_camp_anterior')",
   "outputs": [],
   "execution_count": 57
  },
  {
   "metadata": {
    "ExecuteTime": {
     "end_time": "2024-05-05T00:10:23.068310Z",
     "start_time": "2024-05-05T00:10:23.066010Z"
    }
   },
   "cell_type": "code",
   "source": "#df[['resultado_camp_anterior','subscripcion_deposito']].value_counts()*100/len(df)",
   "outputs": [],
   "execution_count": 58
  },
  {
   "metadata": {
    "ExecuteTime": {
     "end_time": "2024-05-05T00:10:23.111336Z",
     "start_time": "2024-05-05T00:10:23.109242Z"
    }
   },
   "cell_type": "code",
   "source": "#test",
   "outputs": [],
   "execution_count": 59
  },
  {
   "metadata": {
    "ExecuteTime": {
     "end_time": "2024-05-05T00:10:23.183424Z",
     "start_time": "2024-05-05T00:10:23.179781Z"
    }
   },
   "cell_type": "code",
   "source": "# conteo_valores_unicos(df, 'educacion')",
   "outputs": [],
   "execution_count": 60
  },
  {
   "metadata": {
    "ExecuteTime": {
     "end_time": "2024-05-05T00:10:23.209619Z",
     "start_time": "2024-05-05T00:10:23.202642Z"
    }
   },
   "cell_type": "code",
   "source": [
    "# Definir el orden específico en un diccionario\n",
    "order_mapping = {\n",
    "    'analfabeto': 0,\n",
    "    'primaria_3_grado': 1,\n",
    "    'primaria_4_grado': 2,\n",
    "    'primaria_6_grado': 3,\n",
    "    'secundaria_completa': 4,\n",
    "    'curso_profesional': 5,\n",
    "    'grado_universitario': 6\n",
    "}\n",
    "\n",
    "# Aplicar el mapeo a la columna\n",
    "df['education_encoded'] = df['educacion'].map(order_mapping)\n",
    "\n",
    "# Aplicar el mapeo a la columna\n",
    "test['education_encoded'] = test['educacion'].map(order_mapping)"
   ],
   "outputs": [],
   "execution_count": 61
  },
  {
   "metadata": {
    "ExecuteTime": {
     "end_time": "2024-05-05T00:10:23.271030Z",
     "start_time": "2024-05-05T00:10:23.268624Z"
    }
   },
   "cell_type": "code",
   "source": "#df",
   "outputs": [],
   "execution_count": 62
  },
  {
   "metadata": {
    "ExecuteTime": {
     "end_time": "2024-05-05T00:10:23.295095Z",
     "start_time": "2024-05-05T00:10:23.293084Z"
    }
   },
   "cell_type": "code",
   "source": "#test",
   "outputs": [],
   "execution_count": 63
  },
  {
   "metadata": {
    "ExecuteTime": {
     "end_time": "2024-05-05T00:10:23.382126Z",
     "start_time": "2024-05-05T00:10:23.375932Z"
    }
   },
   "cell_type": "code",
   "source": "conteo_valores_unicos(df, 'trabajo')",
   "outputs": [
    {
     "data": {
      "text/plain": [
       "trabajo\n",
       "administrador                  8448\n",
       "trabajador_industria           7379\n",
       "tecnico                        5338\n",
       "servicios                      3131\n",
       "administración                 2328\n",
       "retirado                       1335\n",
       "emprendedor                    1125\n",
       "empleado_ por_cuenta_propia    1114\n",
       "empleada_domestica              838\n",
       "desempleado                     817\n",
       "estudiante                      685\n",
       "Name: count, dtype: int64"
      ]
     },
     "execution_count": 64,
     "metadata": {},
     "output_type": "execute_result"
    }
   ],
   "execution_count": 64
  },
  {
   "metadata": {
    "ExecuteTime": {
     "end_time": "2024-05-05T00:10:23.443292Z",
     "start_time": "2024-05-05T00:10:23.437116Z"
    }
   },
   "cell_type": "code",
   "source": "#df.drop('trabajo_mapped', axis=1, inplace=True)",
   "outputs": [],
   "execution_count": 65
  },
  {
   "metadata": {
    "ExecuteTime": {
     "end_time": "2024-05-05T00:10:23.549713Z",
     "start_time": "2024-05-05T00:10:23.541771Z"
    }
   },
   "cell_type": "code",
   "source": [
    "order_mapping = {\n",
    "    'estudiante': 'estudiante',\n",
    "    'retirado': 'jubilado',\n",
    "    'desempleado': 'sin_empleo',\n",
    "    'administrador': 'con_empleo',\n",
    "    'tecnico': 'con_empleo',\n",
    "    'trabajador_industria': 'con_empleo',\n",
    "    'servicios': 'con_empleo',\n",
    "    'administración': 'con_empleo',\n",
    "    'empleado_ por_cuenta_propia': 'con_empleo', #auto_empleo\n",
    "    'empleada_domestica': 'con_empleo',\n",
    "    'emprendedor': 'con_empleo', #auto_empleo\n",
    "}\n",
    "\n",
    "df['trabajo_mapped'] = df['trabajo'].map(order_mapping)\n",
    "test['trabajo_mapped'] = test['trabajo'].map(order_mapping)"
   ],
   "outputs": [],
   "execution_count": 66
  },
  {
   "metadata": {
    "ExecuteTime": {
     "end_time": "2024-05-05T00:10:23.602565Z",
     "start_time": "2024-05-05T00:10:23.596349Z"
    }
   },
   "cell_type": "code",
   "source": [
    "print(conteo_valores_unicos(df, 'trabajo_mapped'))\n",
    "print(conteo_valores_unicos(test, 'trabajo_mapped'))"
   ],
   "outputs": [
    {
     "name": "stdout",
     "output_type": "stream",
     "text": [
      "trabajo_mapped\n",
      "con_empleo    29701\n",
      "jubilado       1335\n",
      "sin_empleo      817\n",
      "estudiante      685\n",
      "Name: count, dtype: int64\n",
      "trabajo_mapped\n",
      "con_empleo    11638\n",
      "jubilado        551\n",
      "sin_empleo      308\n",
      "estudiante      272\n",
      "Name: count, dtype: int64\n"
     ]
    }
   ],
   "execution_count": 67
  },
  {
   "metadata": {
    "ExecuteTime": {
     "end_time": "2024-05-05T00:10:23.705065Z",
     "start_time": "2024-05-05T00:10:23.686723Z"
    }
   },
   "cell_type": "code",
   "source": "df = pd.get_dummies(df,prefix=[\"trab\"],columns=[\"trabajo_mapped\"])",
   "outputs": [],
   "execution_count": 68
  },
  {
   "metadata": {
    "ExecuteTime": {
     "end_time": "2024-05-05T00:10:23.775610Z",
     "start_time": "2024-05-05T00:10:23.764542Z"
    }
   },
   "cell_type": "code",
   "source": "test = pd.get_dummies(test,prefix=[\"trab\"],columns=[\"trabajo_mapped\"])",
   "outputs": [],
   "execution_count": 69
  },
  {
   "metadata": {
    "ExecuteTime": {
     "end_time": "2024-05-05T00:10:23.820309Z",
     "start_time": "2024-05-05T00:10:23.813268Z"
    }
   },
   "cell_type": "code",
   "source": [
    "# dataset = pd.read_parquet('dataset.parquet')\n",
    "df.drop(['trabajo','educacion'], axis=1, inplace=True)"
   ],
   "outputs": [],
   "execution_count": 70
  },
  {
   "metadata": {
    "ExecuteTime": {
     "end_time": "2024-05-05T00:10:23.899464Z",
     "start_time": "2024-05-05T00:10:23.894804Z"
    }
   },
   "cell_type": "code",
   "source": "test.drop(['trabajo','educacion'], axis=1, inplace=True)",
   "outputs": [],
   "execution_count": 71
  },
  {
   "metadata": {
    "ExecuteTime": {
     "end_time": "2024-05-05T00:10:23.993113Z",
     "start_time": "2024-05-05T00:10:23.967726Z"
    }
   },
   "cell_type": "code",
   "source": [
    "df = pd.get_dummies(df,prefix=[\"civil\",\"contact\",\"mes\",\"dia\",\"res_camp_ant\"],columns=[\"estado_civil\", \"contact\", \"mes\", \"dia_semana\", \"resultado_camp_anterior\"])\n",
    "test = pd.get_dummies(test,prefix=[\"civil\",\"contact\",\"mes\",\"dia\",\"res_camp_ant\"],columns=[\"estado_civil\", \"contact\", \"mes\", \"dia_semana\", \"resultado_camp_anterior\"])"
   ],
   "outputs": [],
   "execution_count": 72
  },
  {
   "metadata": {
    "ExecuteTime": {
     "end_time": "2024-05-05T00:10:24.051151Z",
     "start_time": "2024-05-05T00:10:24.003195Z"
    }
   },
   "cell_type": "code",
   "source": [
    "df.to_parquet('dataset_x_train.parquet', index=False)\n",
    "test.to_parquet('dataset_x_test.parquet', index=False)\n",
    "y.to_parquet('dataset_y_train.parquet', index=False)"
   ],
   "outputs": [],
   "execution_count": 73
  },
  {
   "metadata": {
    "ExecuteTime": {
     "end_time": "2024-05-05T00:10:24.076788Z",
     "start_time": "2024-05-05T00:10:24.074445Z"
    }
   },
   "cell_type": "code",
   "source": "from sklearn.preprocessing import MinMaxScaler",
   "outputs": [],
   "execution_count": 74
  },
  {
   "metadata": {
    "ExecuteTime": {
     "end_time": "2024-05-05T00:10:24.155367Z",
     "start_time": "2024-05-05T00:10:24.104308Z"
    }
   },
   "cell_type": "code",
   "source": [
    "scaler = MinMaxScaler()\n",
    "df_scaled = scaler.fit_transform(df)\n",
    "df_scaled = pd.DataFrame(df_scaled, columns=df.columns)"
   ],
   "outputs": [],
   "execution_count": 75
  },
  {
   "metadata": {
    "ExecuteTime": {
     "end_time": "2024-05-05T00:10:24.205333Z",
     "start_time": "2024-05-05T00:10:24.186144Z"
    }
   },
   "cell_type": "code",
   "source": [
    "scaler = MinMaxScaler()\n",
    "test_scaled = scaler.fit_transform(test)\n",
    "test_scaled = pd.DataFrame(test_scaled, columns=test.columns)"
   ],
   "outputs": [],
   "execution_count": 76
  },
  {
   "metadata": {
    "ExecuteTime": {
     "end_time": "2024-05-05T00:10:24.268205Z",
     "start_time": "2024-05-05T00:10:24.223275Z"
    }
   },
   "cell_type": "code",
   "source": [
    "df.to_parquet('dataset_x_train_minmax.parquet', index=False)\n",
    "test.to_parquet('dataset_x_test_minmax.parquet', index=False)\n",
    "y.to_parquet('dataset_y_train_minmax.parquet', index=False)"
   ],
   "outputs": [],
   "execution_count": 77
  },
  {
   "metadata": {
    "ExecuteTime": {
     "end_time": "2024-05-05T00:34:48.312770Z",
     "start_time": "2024-05-05T00:34:48.303652Z"
    }
   },
   "cell_type": "code",
   "source": "rdf = pd.read_parquet(\"dataset_x_train.parquet\")",
   "outputs": [],
   "execution_count": 78
  }
 ]
}
